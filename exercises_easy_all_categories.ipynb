{
 "cells": [
  {
   "cell_type": "markdown",
   "metadata": {},
   "source": [
    "## Two sum\n",
    "\n",
    "Given an array of integers, return **indices** of the two numbers such that they add up to a specific target.\n",
    "You may assume that each input would have *exactly* one solution, and you may not use the same element twice."
   ]
  },
  {
   "cell_type": "code",
   "execution_count": 14,
   "metadata": {},
   "outputs": [],
   "source": [
    "def two_sum(nums, target):\n",
    "    \n",
    "    # number to index mapping table\n",
    "    mapping = {num : ix for ix, num in enumerate(nums)}\n",
    "    \n",
    "    for ix, n in enumerate(nums):\n",
    "        diff = target - n\n",
    "        if diff in nums:\n",
    "            if mapping[diff] != ix:\n",
    "                return ix, mapping[diff]"
   ]
  },
  {
   "cell_type": "code",
   "execution_count": 20,
   "metadata": {},
   "outputs": [
    {
     "data": {
      "text/plain": [
       "(1, 2)"
      ]
     },
     "execution_count": 20,
     "metadata": {},
     "output_type": "execute_result"
    }
   ],
   "source": [
    "nums = [3, 2, 4, 5]\n",
    "target = 6\n",
    "two_sum(nums, target)"
   ]
  },
  {
   "cell_type": "markdown",
   "metadata": {},
   "source": [
    "## Reverse Integer \n",
    "\n",
    "Not working !!!"
   ]
  },
  {
   "cell_type": "code",
   "execution_count": 4,
   "metadata": {},
   "outputs": [],
   "source": [
    "def rev_int(x):\n",
    "    rev = 0\n",
    "    INT_MAX = 2**31 - 1\n",
    "    INT_MIN = -2**31\n",
    "    \n",
    "    while x !=0:\n",
    "        pop = x % 10\n",
    "        x = x//10\n",
    "        \n",
    "        if (rev > INT_MAX//10) or (rev == INT_MAX//10 and pop > 6):\n",
    "            return 0\n",
    "        if (rev < INT_MIN//10) or (rev == INT_MIN//10 and pop < -8):\n",
    "            return 0\n",
    "        \n",
    "        rev = rev*10 + pop\n",
    "    return rev"
   ]
  },
  {
   "cell_type": "code",
   "execution_count": 5,
   "metadata": {},
   "outputs": [
    {
     "data": {
      "text/plain": [
       "0"
      ]
     },
     "execution_count": 5,
     "metadata": {},
     "output_type": "execute_result"
    }
   ],
   "source": [
    "rev_int(-123)"
   ]
  },
  {
   "cell_type": "markdown",
   "metadata": {},
   "source": [
    "## Palindrome Number\n",
    "\n",
    "Discuss all cases:\n",
    "- Negative integers are not palindromes\n",
    "- If the last digit is 0, palindrome should also start with 0. Which is possible only in the case of 0\n",
    "- We should care about INT_MAX overflow\n",
    "\n",
    "Algorithm:\n",
    "- In order to NOT interfere with the "
   ]
  },
  {
   "cell_type": "code",
   "execution_count": 22,
   "metadata": {},
   "outputs": [],
   "source": [
    "def palindrome(num):\n",
    "    if num == 0:\n",
    "        return True\n",
    "    if num < 0 or num%10 == 0: \n",
    "        return False\n",
    "    \n",
    "    rev = 0\n",
    "    length = len(str(num))\n",
    "    half =  length // 2\n",
    "    for _ in range(half):\n",
    "        pop = num%10\n",
    "        num = num//10\n",
    "        rev = rev*10 + pop\n",
    "        \n",
    "    if length%2 == 0:\n",
    "        if rev == num:\n",
    "            return True\n",
    "        else:\n",
    "            return False\n",
    "    else:\n",
    "        if rev == num//10:\n",
    "            return True\n",
    "        else:\n",
    "            return False"
   ]
  },
  {
   "cell_type": "code",
   "execution_count": 26,
   "metadata": {},
   "outputs": [
    {
     "name": "stdout",
     "output_type": "stream",
     "text": [
      "2\n",
      "28\n",
      "281\n"
     ]
    },
    {
     "data": {
      "text/plain": [
       "False"
      ]
     },
     "execution_count": 26,
     "metadata": {},
     "output_type": "execute_result"
    }
   ],
   "source": [
    "palindrome(763182)"
   ]
  },
  {
   "cell_type": "markdown",
   "metadata": {},
   "source": [
    "### Remove Duplicates from Sorted Array (Lists)\n",
    "\n",
    "Discuss:\n",
    "- Arrays contains nums = integers only\n",
    "- Don't use extra memory. Allowance O(1) only\n",
    "\n",
    "Algorithm:\n",
    "- In-place algorithm means: manipulate/modify object without copyting it to another variable\n",
    "- **i** stays and waits until **j** goes and find the element which is different from nums[i]\n",
    "- Once it finds it, we copy that elements to the next slot: nums[i+1] (so i++)\n",
    "- **j** continues search, now it tries to find the element which is different from **i**'s new spot\n",
    "- Continue until j reaches the end of array and return the **i**! >> Number of different integers!"
   ]
  },
  {
   "cell_type": "code",
   "execution_count": 77,
   "metadata": {},
   "outputs": [],
   "source": [
    "def removeDuplicates(nums):\n",
    "    if len(nums) == 0:\n",
    "        return 0\n",
    "    i = 0\n",
    "    length = len(nums)\n",
    "    \n",
    "    for j in range(1, length):\n",
    "        if nums[i] != nums[j]:\n",
    "            i += 1\n",
    "            nums[i] = nums[j]\n",
    "            \n",
    "    return i+1 #since i is index\n",
    "\n",
    "#---------------------------------------------------------------------------------------------------------------#\n",
    "\n",
    "def removeDuplicates_long(arr):\n",
    "    from collections import Counter\n",
    "    unique_nums = Counter(arr)\n",
    "    \n",
    "    for item, value in unique_nums.items():\n",
    "        if value > 1:\n",
    "            temp = value\n",
    "            while temp != 1:\n",
    "                arr.remove(item)\n",
    "                temp -= 1\n",
    "    print(arr)\n",
    "    print(len(arr))"
   ]
  },
  {
   "cell_type": "code",
   "execution_count": 78,
   "metadata": {},
   "outputs": [
    {
     "data": {
      "text/plain": [
       "4"
      ]
     },
     "execution_count": 78,
     "metadata": {},
     "output_type": "execute_result"
    }
   ],
   "source": [
    "removeDuplicates([1,2,3,4,4])"
   ]
  },
  {
   "cell_type": "markdown",
   "metadata": {},
   "source": [
    "### Merge Two Sorted Lists\n",
    "\n",
    "Discuss:\n",
    "- Done with ListNodes, where given Listnode is a head node of the linked list!\n",
    "\n",
    "Algorithm:\n",
    "- If one of the linked lists is empty, return the other one!\n",
    "- Do a recursive solution: call the function everytime for the new search!\n",
    "- Try alterbative approach NOT using recursive method!"
   ]
  },
  {
   "cell_type": "code",
   "execution_count": 1,
   "metadata": {},
   "outputs": [
    {
     "ename": "NameError",
     "evalue": "name 'ListNode' is not defined",
     "output_type": "error",
     "traceback": [
      "\u001b[0;31m---------------------------------------------------------------------------\u001b[0m",
      "\u001b[0;31mNameError\u001b[0m                                 Traceback (most recent call last)",
      "\u001b[0;32m<ipython-input-1-dd4fcbdee2d2>\u001b[0m in \u001b[0;36m<module>\u001b[0;34m()\u001b[0m\n\u001b[0;32m----> 1\u001b[0;31m \u001b[0;32mdef\u001b[0m \u001b[0mmergeTwoLists\u001b[0m\u001b[0;34m(\u001b[0m\u001b[0mself\u001b[0m\u001b[0;34m,\u001b[0m \u001b[0ml1\u001b[0m\u001b[0;34m:\u001b[0m \u001b[0mListNode\u001b[0m\u001b[0;34m,\u001b[0m \u001b[0ml2\u001b[0m\u001b[0;34m:\u001b[0m \u001b[0mListNode\u001b[0m\u001b[0;34m)\u001b[0m \u001b[0;34m->\u001b[0m \u001b[0mListNode\u001b[0m\u001b[0;34m:\u001b[0m\u001b[0;34m\u001b[0m\u001b[0m\n\u001b[0m\u001b[1;32m      2\u001b[0m     \u001b[0;32mif\u001b[0m \u001b[0ml1\u001b[0m\u001b[0;34m.\u001b[0m\u001b[0mval\u001b[0m \u001b[0;34m==\u001b[0m \u001b[0;32mNone\u001b[0m\u001b[0;34m:\u001b[0m\u001b[0;34m\u001b[0m\u001b[0m\n\u001b[1;32m      3\u001b[0m         \u001b[0;32mreturn\u001b[0m \u001b[0ml2\u001b[0m\u001b[0;34m\u001b[0m\u001b[0m\n\u001b[1;32m      4\u001b[0m     \u001b[0;32mif\u001b[0m \u001b[0ml2\u001b[0m\u001b[0;34m.\u001b[0m\u001b[0mval\u001b[0m \u001b[0;34m==\u001b[0m \u001b[0;32mNone\u001b[0m\u001b[0;34m:\u001b[0m\u001b[0;34m\u001b[0m\u001b[0m\n\u001b[1;32m      5\u001b[0m         \u001b[0;32mreturn\u001b[0m \u001b[0ml1\u001b[0m\u001b[0;34m\u001b[0m\u001b[0m\n",
      "\u001b[0;31mNameError\u001b[0m: name 'ListNode' is not defined"
     ]
    }
   ],
   "source": [
    "# write list nodes here!!!\n",
    "\n",
    "def mergeTwoLists(self, l1: ListNode, l2: ListNode) -> ListNode:\n",
    "    if l1 is None: #pointing to None\n",
    "        return l2\n",
    "    if l2 is None:\n",
    "        return l1\n",
    "    \n",
    "    if l1.val <= l2.val:\n",
    "        l1.next = self.mergeTwoLists(l1.next, l2)\n",
    "        return l1\n",
    "    else:\n",
    "        l2.next = self.mergeTwoLists(l2.next, l1)\n",
    "        return l2  "
   ]
  },
  {
   "cell_type": "markdown",
   "metadata": {},
   "source": [
    "### Merge Sorted Array\n",
    "\n",
    "Discuss:\n",
    "- Without using stacks\n",
    "- in-place modification, nothing to return\n",
    "\n",
    "Algorithm:\n",
    "- Compare the max length with its content length\n",
    "-sort the first m+n elements together, and replace nums1 by it"
   ]
  },
  {
   "cell_type": "code",
   "execution_count": 88,
   "metadata": {},
   "outputs": [
    {
     "name": "stdout",
     "output_type": "stream",
     "text": [
      "2 0 1 1\n",
      "[2, 2]\n",
      "2 -1 1 0\n",
      "[1, 2, 2]\n"
     ]
    },
    {
     "data": {
      "text/plain": [
       "[1, 2, 2]"
      ]
     },
     "execution_count": 88,
     "metadata": {},
     "output_type": "execute_result"
    }
   ],
   "source": [
    "## too long -- later\n",
    "\n",
    "def merge(nums1, m, nums2, n):\n",
    "    if m == 0:\n",
    "        nums1 = nums2\n",
    "    elif n != 0:\n",
    "        i = m\n",
    "        j = n\n",
    "        nums1_copy = nums1[:m]\n",
    "    \n",
    "        for k in reversed(range(m+n)):\n",
    "            if nums1_copy[i-1] >= nums2[j-1]:\n",
    "                temp = nums1_copy[i-1]\n",
    "                i -= 1\n",
    "            else:\n",
    "                temp = nums2[j-1]\n",
    "                j -= 1\n",
    "            \n",
    "            print(temp, i, j, k)\n",
    "            if (j == -1):\n",
    "                break\n",
    "            elif (i == -1):\n",
    "                nums1[:k] = nums2[:j]\n",
    "            else:\n",
    "                nums1[k] = temp\n",
    "            print(nums1)\n",
    "        \n",
    "    return nums1\n",
    " \n",
    "    \n",
    "def merge_sorted(nums1, m, nums2, n):\n",
    "    nums1[:] = sorted(nums1[1:m] + nums2)\n",
    "    \n",
    "    return(nums1)\n",
    "\n",
    "merge([2,0], 1, [1], 1)"
   ]
  },
  {
   "cell_type": "markdown",
   "metadata": {},
   "source": [
    "### Square root of a number without using any math:\n",
    "\n",
    "Algorithm:\n",
    "- Use Newton's approximation: Taylor one series expansion"
   ]
  },
  {
   "cell_type": "code",
   "execution_count": 106,
   "metadata": {},
   "outputs": [
    {
     "name": "stdout",
     "output_type": "stream",
     "text": [
      "prev is %d 8\n",
      "next is %d 4.5\n",
      "prev is %d 4.5\n",
      "next is %d 3.138888888888889\n",
      "prev is %d 3.138888888888889\n",
      "next is %d 2.843780727630285\n",
      "prev is %d 2.843780727630285\n",
      "next is %d 2.8284685718801468\n",
      "prev is %d 2.8284685718801468\n",
      "next is %d 2.8284271250498643\n"
     ]
    },
    {
     "data": {
      "text/plain": [
       "2"
      ]
     },
     "execution_count": 106,
     "metadata": {},
     "output_type": "execute_result"
    }
   ],
   "source": [
    "def mySqrt(x: int) -> int:\n",
    "        if x < 1:\n",
    "            return 0\n",
    "        elif x < 4:\n",
    "            return 1\n",
    "        elif x == 4:\n",
    "            return 2\n",
    "        else:\n",
    "            res_prev = x\n",
    "            while True:\n",
    "                prev_temp = res_prev\n",
    "                res_next = 1/2*(prev_temp + x/prev_temp)\n",
    "                \n",
    "                print('prev is %d', res_prev)\n",
    "                print('next is %d', res_next)\n",
    "                \n",
    "                if res_prev - res_next < 0.01:\n",
    "                    break\n",
    "                else:\n",
    "                    temp_next = res_next\n",
    "                    res_prev = temp_next\n",
    "                    \n",
    "        return int(res_next)\n",
    "\n",
    "mySqrt(8)"
   ]
  },
  {
   "cell_type": "markdown",
   "metadata": {},
   "source": [
    "### Implmenet strStr()\n",
    "\n",
    "Discussion:\n",
    "- qjeq\n",
    "\n",
    "Algorithm:\n",
    "- Start from the edge cases"
   ]
  },
  {
   "cell_type": "code",
   "execution_count": null,
   "metadata": {},
   "outputs": [],
   "source": [
    "def strStr(self, haystack: str, needle: str) -> int:\n",
    "    if not haystack\n",
    "    \n",
    "    "
   ]
  },
  {
   "cell_type": "code",
   "execution_count": 108,
   "metadata": {},
   "outputs": [
    {
     "data": {
      "text/plain": [
       "2"
      ]
     },
     "execution_count": 108,
     "metadata": {},
     "output_type": "execute_result"
    }
   ],
   "source": [
    "'banana'.count('na')"
   ]
  },
  {
   "cell_type": "code",
   "execution_count": 109,
   "metadata": {},
   "outputs": [
    {
     "name": "stdout",
     "output_type": "stream",
     "text": [
      "False\n"
     ]
    }
   ],
   "source": [
    "print(not 'a')"
   ]
  },
  {
   "cell_type": "code",
   "execution_count": null,
   "metadata": {},
   "outputs": [],
   "source": []
  },
  {
   "cell_type": "code",
   "execution_count": null,
   "metadata": {},
   "outputs": [],
   "source": []
  },
  {
   "cell_type": "code",
   "execution_count": null,
   "metadata": {},
   "outputs": [],
   "source": []
  },
  {
   "cell_type": "code",
   "execution_count": null,
   "metadata": {},
   "outputs": [],
   "source": []
  },
  {
   "cell_type": "code",
   "execution_count": null,
   "metadata": {},
   "outputs": [],
   "source": []
  },
  {
   "cell_type": "code",
   "execution_count": null,
   "metadata": {},
   "outputs": [],
   "source": []
  },
  {
   "cell_type": "code",
   "execution_count": null,
   "metadata": {},
   "outputs": [],
   "source": []
  },
  {
   "cell_type": "code",
   "execution_count": null,
   "metadata": {},
   "outputs": [],
   "source": []
  }
 ],
 "metadata": {
  "kernelspec": {
   "display_name": "Python 3",
   "language": "python",
   "name": "python3"
  },
  "language_info": {
   "codemirror_mode": {
    "name": "ipython",
    "version": 3
   },
   "file_extension": ".py",
   "mimetype": "text/x-python",
   "name": "python",
   "nbconvert_exporter": "python",
   "pygments_lexer": "ipython3",
   "version": "3.7.0"
  }
 },
 "nbformat": 4,
 "nbformat_minor": 2
}
